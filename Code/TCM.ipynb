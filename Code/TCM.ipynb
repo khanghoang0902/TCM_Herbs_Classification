{
  "nbformat": 4,
  "nbformat_minor": 0,
  "metadata": {
    "colab": {
      "provenance": []
    },
    "kernelspec": {
      "name": "python3",
      "display_name": "Python 3"
    },
    "language_info": {
      "name": "python"
    }
  },
  "cells": [
    {
      "cell_type": "markdown",
      "source": [
        "Package Loading"
      ],
      "metadata": {
        "id": "atqBe4pWWTK6"
      }
    },
    {
      "cell_type": "code",
      "execution_count": null,
      "metadata": {
        "id": "uhKilWfSHjMD",
        "colab": {
          "base_uri": "https://localhost:8080/"
        },
        "outputId": "cfc7f20b-cf4f-44bb-d708-6e7a5dc45a08"
      },
      "outputs": [
        {
          "output_type": "stream",
          "name": "stderr",
          "text": [
            "[nltk_data] Downloading package punkt to /root/nltk_data...\n",
            "[nltk_data]   Package punkt is already up-to-date!\n",
            "[nltk_data] Downloading package stopwords to /root/nltk_data...\n",
            "[nltk_data]   Package stopwords is already up-to-date!\n"
          ]
        }
      ],
      "source": [
        "from gensim.test.utils import common_texts\n",
        "from gensim.models import Word2Vec\n",
        "from gensim.models.fasttext import FastText\n",
        "import nltk\n",
        "nltk.download('punkt')\n",
        "nltk.download('stopwords')\n",
        "import pandas as pd\n",
        "import jieba  # Chinese text segmentation library\n",
        "from nltk.corpus import stopwords\n",
        "import numpy as np  # Import numpy for handling NaN values\n",
        "\n",
        "from sklearn.model_selection import train_test_split\n",
        "from sklearn.preprocessing import MinMaxScaler\n",
        "from sklearn.metrics import accuracy_score, f1_score, precision_score, recall_score\n",
        "\n",
        "from sklearn.naive_bayes import GaussianNB\n",
        "from sklearn.naive_bayes import MultinomialNB\n",
        "from sklearn.ensemble import RandomForestClassifier"
      ]
    },
    {
      "cell_type": "markdown",
      "source": [
        "1. Preprocess the data:\n",
        "- Fill in the missing column\n",
        "- Choose the proper features\n",
        "- Tokenize each sentence in each cell"
      ],
      "metadata": {
        "id": "C5dTy_PQWYZ-"
      }
    },
    {
      "cell_type": "code",
      "source": [
        "df = pd.read_csv('medical_cases.csv')\n",
        "\n",
        "for column in df:\n",
        "    # Replace missing values with a placeholder token\n",
        "    df[column].fillna('未知', inplace=True)\n",
        "\n",
        "# Tokenization and Cleaning function for Chinese text\n",
        "def preprocess_chinese_text(text):\n",
        "    # Check if the value is NaN or non-string, and handle accordingly\n",
        "    if isinstance(text, str):\n",
        "        # Tokenize Chinese text using jieba\n",
        "        words = jieba.lcut(text)\n",
        "\n",
        "        custom_stop_words = set(stopwords.words('chinese'))\n",
        "        custom_stop_words.discard('有力')  # Remove '有力' from stop words\n",
        "\n",
        "        # Remove Chinese stopwords including custom stop words\n",
        "        cleaned_words = [word for word in words if word not in custom_stop_words]\n",
        "        # Print the cleaned words after stop words removal\n",
        "\n",
        "        return cleaned_words\n",
        "        return words\n",
        "    else:\n",
        "        return ''  # Return an empty string or handle as needed for non-string values\n"
      ],
      "metadata": {
        "id": "sTxy2SYtPUp1"
      },
      "execution_count": null,
      "outputs": []
    },
    {
      "cell_type": "markdown",
      "source": [
        "2. Try some embedding models"
      ],
      "metadata": {
        "id": "ubDlFGlZSzf-"
      }
    },
    {
      "cell_type": "markdown",
      "source": [
        "2.1 Word2Vec"
      ],
      "metadata": {
        "id": "6b3MOKkYXC5V"
      }
    },
    {
      "cell_type": "code",
      "source": [
        "def Word2Vec_Processing(columns_to_tokenize):\n",
        "  # Preprocess each column\n",
        "  for column in columns_to_tokenize:\n",
        "      df[column] = df[column].apply(preprocess_chinese_text)\n",
        "\n",
        "  # Initialize an empty dictionary to store Word2Vec models for each column\n",
        "  word2vec_models = {}\n",
        "\n",
        "  # Loop through the tokenized columns and train Word2Vec models\n",
        "  for column in columns_to_tokenize:\n",
        "      word2vec_model = Word2Vec(sentences=df[column], vector_size=200, window=3, min_count=1, workers=4)\n",
        "      word2vec_models[column] = word2vec_model\n",
        "  # Initialize a dictionary to store embeddings for each column\n",
        "  embeddings_for_columns = {}\n",
        "\n",
        "  # Loop through the columns and generate embeddings\n",
        "  for column_name in columns_to_tokenize:\n",
        "      embeddings_for_column = []\n",
        "\n",
        "      # Generate embeddings for tokens in each column using the corresponding Word2Vec model\n",
        "      for tokenized_sentence in df[column_name]:\n",
        "          sentence_embedding = []\n",
        "          for word in tokenized_sentence:\n",
        "              if word in word2vec_models[column_name].wv:\n",
        "                  word_embedding = word2vec_models[column_name].wv[word]\n",
        "                  sentence_embedding.append(word_embedding)\n",
        "\n",
        "          # Append the sentence embedding to the list\n",
        "          embeddings_for_column.append(sentence_embedding)\n",
        "\n",
        "      # Store embeddings for the column in the dictionary\n",
        "      embeddings_for_columns[column_name] = embeddings_for_column\n",
        "  return embeddings_for_columns"
      ],
      "metadata": {
        "id": "jYPUrnzNr0vu"
      },
      "execution_count": null,
      "outputs": []
    },
    {
      "cell_type": "markdown",
      "source": [
        "3. Handling the vector"
      ],
      "metadata": {
        "id": "y7WzFLgjYMIX"
      }
    },
    {
      "cell_type": "markdown",
      "source": [
        "- try using average (ver1): not efficient.. skip\n",
        "\n"
      ],
      "metadata": {
        "id": "Ihiuk_Ubs1C_"
      }
    },
    {
      "cell_type": "markdown",
      "source": [
        "- other approaches to get the final embedding vectors"
      ],
      "metadata": {
        "id": "ZqOxFTgjs6AM"
      }
    },
    {
      "cell_type": "code",
      "source": [
        "def VectorGeneration(embeddings):\n",
        "  # Initialize a dictionary to store aggregated embeddings for each column\n",
        "  aggregated_embeddings_for_columns = {}\n",
        "\n",
        "  # Loop through the columns and generate aggregated embeddings\n",
        "  for column_name in embeddings.keys():\n",
        "\n",
        "      aggregated_embeddings_for_column = []\n",
        "\n",
        "      # Calculate aggregated embeddings for tokens in each feature column\n",
        "      for sentence_embeddings in embeddings[column_name]:\n",
        "          if not sentence_embeddings:\n",
        "              # If the feature has no embeddings, append a zero vector\n",
        "              aggregated_embeddings_for_column.append(np.zeros(word2vec_models[column_name].vector_size))\n",
        "          else:\n",
        "              # Calculate different aggregation methods: max, min, sum\n",
        "              max_embedding = np.max(sentence_embeddings, axis=0)\n",
        "              min_embedding = np.min(sentence_embeddings, axis=0)\n",
        "              sum_embedding = np.sum(sentence_embeddings, axis=0)\n",
        "\n",
        "              # Append the aggregated embeddings to the list\n",
        "              aggregated_embeddings_for_column.append({\n",
        "                  'max_embedding': max_embedding,\n",
        "                  'min_embedding': min_embedding,\n",
        "                  'sum_embedding': sum_embedding\n",
        "              })\n",
        "\n",
        "      # Store aggregated embeddings for the column in the dictionary\n",
        "      aggregated_embeddings_for_columns[column_name] = aggregated_embeddings_for_column\n",
        "  return aggregated_embeddings_for_columns"
      ],
      "metadata": {
        "id": "y6WM1M1UsWTr"
      },
      "execution_count": null,
      "outputs": []
    },
    {
      "cell_type": "markdown",
      "source": [
        "4. Classification Model"
      ],
      "metadata": {
        "id": "1rgn9mn9H0vP"
      }
    },
    {
      "cell_type": "markdown",
      "source": [
        "4.1. Using Naive Bayes"
      ],
      "metadata": {
        "id": "JLKg_xGCJ7GI"
      }
    },
    {
      "cell_type": "markdown",
      "source": [
        "- For average vector (not good) - skip"
      ],
      "metadata": {
        "id": "QBBtTKoWv6L2"
      }
    },
    {
      "cell_type": "markdown",
      "source": [
        "- for max, min, sum with Naive Bayes"
      ],
      "metadata": {
        "id": "w_3ZYRlTwBUU"
      }
    },
    {
      "cell_type": "code",
      "source": [
        "herb_columns = ['澤瀉', '黃芩', '桂枝', '炙甘草', '白芍']\n",
        "def get_features (herb):\n",
        "    for herb in herb_columns:\n",
        "        if herb == '澤瀉': #It is antibacterial, anticholesterolemic, diuretic and\n",
        "            columns = ['大便','渴','頭身','月經','其他','脈診',\t'望診',\n",
        "                            '舌診','眼診',\t'特殊診斷', '耳診','診斷']\n",
        "        elif herb == '黃芩': #- To treat hepatitis, arthritis, cancer: liver, cancer and bones related\n",
        "            columns =  ['睡眠', '大便','小便','胃口','渴', '手足',\n",
        "                            '頭身','汗','月經','其他','脈診',\t'望診',\n",
        "                            '舌診','眼診',\t'特殊診斷', '耳診','診斷']\n",
        "        elif herb == '桂枝': # - treat gastrointestinal dysfunction, cancer, arthritis, osteoporosis, sleep deficiency, Alzheimer's disease and obesity.\n",
        "            columns =  ['來診原因','睡眠', '大便','小便','胃口','渴', '手足',\n",
        "                            '頭身','汗','其他','脈診',\t'望診',\n",
        "                            '舌診','特殊診斷', '耳診','診斷', '解說']\n",
        "        elif herb == '白芍': # - white peony root, treat a wide range of ailments, including fever, inflammation, and pain\n",
        "            columns = ['來診原因','睡眠', '大便','小便','胃口','渴', '手足',\n",
        "                            '頭身','汗','月經','其他','脈診',\t'望診',\n",
        "                            '舌診','特殊診斷', '眼診','耳診','診斷', '解說', '性別']\n",
        "        elif herb == '炙甘草': # - licorice root, can help to relieve fatigue, general weakness, poor appetite and loose bowels\n",
        "            columns = ['來診原因','睡眠', '大便','小便','胃口','渴', '手足',\n",
        "                            '頭身','汗','月經','其他','脈診',\t'望診',\n",
        "                            '舌診','特殊診斷', '眼診','耳診','診斷', '解說']\n",
        "            # ['大便', '胃口', '渴', '頭身', '其他', '特殊診斷', '診斷', '來診原因']\n",
        "        return columns\n",
        "total_columns = ['來診原因','睡眠', '大便','小便','胃口','渴', '手足',\n",
        "                            '頭身','汗','月經','其他','脈診',\t'望診',\n",
        "                            '舌診','特殊診斷', '眼診','耳診','診斷', '解說']\n",
        "embeddings = Word2Vec_Processing(total_columns)\n",
        "aggregated_embeddings_for_columns = VectorGeneration(embeddings)\n"
      ],
      "metadata": {
        "colab": {
          "base_uri": "https://localhost:8080/"
        },
        "id": "_X-EJR7M6D6q",
        "outputId": "dc07958a-d357-492d-8ff3-e43b1806f4a6"
      },
      "execution_count": null,
      "outputs": [
        {
          "output_type": "stream",
          "name": "stderr",
          "text": [
            "Building prefix dict from the default dictionary ...\n",
            "DEBUG:jieba:Building prefix dict from the default dictionary ...\n",
            "Dumping model to file cache /tmp/jieba.cache\n",
            "DEBUG:jieba:Dumping model to file cache /tmp/jieba.cache\n",
            "Loading model cost 2.348 seconds.\n",
            "DEBUG:jieba:Loading model cost 2.348 seconds.\n",
            "Prefix dict has been built successfully.\n",
            "DEBUG:jieba:Prefix dict has been built successfully.\n"
          ]
        }
      ]
    },
    {
      "cell_type": "code",
      "source": [
        "print(\"Metrics using word embedding:\")\n",
        "for herb in herb_columns:\n",
        "    features = get_features(herb)\n",
        "\n",
        "    scaler = MinMaxScaler()\n",
        "    scaled_vectors_columns = {}  # Dictionary to store scaled features\n",
        "    for column in aggregated_embeddings_for_columns:\n",
        "        if column in features:\n",
        "            # Extract the aggregated embeddings for the column\n",
        "            embeddings = aggregated_embeddings_for_columns[column]\n",
        "\n",
        "\n",
        "            # Convert the list of dicts to an array\n",
        "            if(herb == '澤瀉'):\n",
        "              X = np.array([embeddings[i]['min_embedding'] for i in range(len(embeddings))])  # Choose 'max_embedding', 'min_embedding', or 'sum_embedding'\n",
        "            elif(herb == '桂枝' or herb == '黃芩' or herb == '炙甘草'):\n",
        "              X = np.array([embeddings[i]['sum_embedding'] for i in range(len(embeddings))])  # Choose 'max_embedding', 'min_embedding', or 'sum_embedding'\n",
        "            else:\n",
        "              X = np.array([embeddings[i]['max_embedding'] for i in range(len(embeddings))])  # Choose 'max_embedding', 'min_embedding', or 'sum_embedding'\n",
        "\n",
        "            # Scale the embeddings for the column\n",
        "            scaled_vectors_columns[column] = scaler.fit_transform(X)  # Scale each feature separately\n",
        "\n",
        "    # Combine the scaled features into a single array\n",
        "    combined_features = np.concatenate(list(scaled_vectors_columns.values()), axis=1)\n",
        "    y_label = df[herb]\n",
        "    nb_classifier = MultinomialNB()\n",
        "    rf_classifier = RandomForestClassifier(n_estimators=20, random_state=222, criterion='entropy')\n",
        "    X_train, X_test, y_train, y_test = train_test_split(combined_features, y_label, test_size=0.2, random_state=18)\n",
        "\n",
        "\n",
        "    # Fit the classifier on the scaled training data\n",
        "    if(herb == '澤瀉' or herb == '桂枝' or herb == '白芍' or herb == '炙甘草'):\n",
        "      rf_classifier.fit(X_train, y_train)\n",
        "      predictions_rf = rf_classifier.predict(X_test)\n",
        "      accuracy_rf = accuracy_score(y_test, predictions_rf)\n",
        "      f1_rf = f1_score(y_test, predictions_rf, average='weighted')\n",
        "      precision_rf = precision_score(y_test, predictions_rf, average='weighted')\n",
        "      recall_rf = recall_score(y_test, predictions_rf, average='weighted')\n",
        "      print(f\"RF: Accuracy of {herb}: {accuracy_rf:.4f}\")\n",
        "      print(f\"RF: F1-score of {herb}: {f1_rf:.4f}\")\n",
        "      print(f\"RF: Precision of {herb}: {precision_rf:.4f}\")\n",
        "      print(f\"RF: Recall of {herb}: {recall_rf:.4f}\\n\")\n",
        "    else:\n",
        "      nb_classifier.fit(X_train, y_train)\n",
        "      predictions = nb_classifier.predict(X_test)\n",
        "      accuracy = accuracy_score(y_test, predictions)\n",
        "      f1 = f1_score(y_test, predictions, average='weighted')\n",
        "      precision = precision_score(y_test, predictions, average='weighted')\n",
        "      recall = recall_score(y_test, predictions, average='weighted')\n",
        "      print(f\"NB: Accuracy of {herb}: {accuracy:.4f}\")\n",
        "      print(f\"NB: F1-score of {herb}: {f1:.4f}\")\n",
        "      print(f\"NB: Precision of {herb}: {precision:.4f}\")\n",
        "      print(f\"NB: Recall of {herb}: {recall:.4f}\\n\")"
      ],
      "metadata": {
        "colab": {
          "base_uri": "https://localhost:8080/"
        },
        "id": "gMCgG0TlEA_g",
        "outputId": "b789c804-5d00-470e-de84-f2f65a1ca8c7"
      },
      "execution_count": null,
      "outputs": [
        {
          "output_type": "stream",
          "name": "stdout",
          "text": [
            "Metrics using word embedding:\n",
            "RF: Accuracy of 澤瀉: 0.7188\n",
            "RF: F1-score of 澤瀉: 0.6966\n",
            "RF: Precision of 澤瀉: 0.7240\n",
            "RF: Recall of 澤瀉: 0.7188\n",
            "\n",
            "NB: Accuracy of 黃芩: 0.5938\n",
            "NB: F1-score of 黃芩: 0.5622\n",
            "NB: Precision of 黃芩: 0.5940\n",
            "NB: Recall of 黃芩: 0.5938\n",
            "\n",
            "RF: Accuracy of 桂枝: 0.6438\n",
            "RF: F1-score of 桂枝: 0.6430\n",
            "RF: Precision of 桂枝: 0.6424\n",
            "RF: Recall of 桂枝: 0.6438\n",
            "\n",
            "RF: Accuracy of 炙甘草: 0.5875\n",
            "RF: F1-score of 炙甘草: 0.5730\n",
            "RF: Precision of 炙甘草: 0.5772\n",
            "RF: Recall of 炙甘草: 0.5875\n",
            "\n",
            "RF: Accuracy of 白芍: 0.6188\n",
            "RF: F1-score of 白芍: 0.6079\n",
            "RF: Precision of 白芍: 0.6472\n",
            "RF: Recall of 白芍: 0.6188\n",
            "\n"
          ]
        }
      ]
    },
    {
      "cell_type": "markdown",
      "source": [
        "5. Compare to the version using binary features only"
      ],
      "metadata": {
        "id": "6sn5VVWhZCcw"
      }
    },
    {
      "cell_type": "code",
      "source": [
        "from sklearn.multioutput import MultiOutputClassifier\n",
        "from sklearn.model_selection import train_test_split\n",
        "from sklearn.preprocessing import MinMaxScaler\n",
        "\n",
        "\n",
        "# Combine the scaled features into a single array\n",
        "\n",
        "binary_column = ['倦怠', '咳嗽', '無力', '血壓', '化療', '診因月經', '背痛', '胃酸', '更年期', '心悸',\n",
        "                 '過敏', '中風', '糖尿病', '失眠', '耳鳴', '抽筋', '肺積水', '甲狀腺', '卵巢', '焦慮',\n",
        "                 '痔瘡', '腹痛', '睡眠好', '睡眠不好', '睡時身熱', '睡時身冷', '睡時身溫', '時醒', '時好時壞',\n",
        "                 '多夢', '雙足冷', '夜尿', '診因汗', '安眠藥', '大便每日行', '大便每日二行', '大便每日三行', '大便正常',\n",
        "                 '便祕', '排氣', '無排氣', '下利', '大便軟', '大便隔日', '大便不規則', '未盡感', '大便色深', '大便色黃',\n",
        "                 '小便淡白', '小便淡黃', '小便中黃', '小便深黃', '小便正常', '泡沫', '頻尿', '量少', '尿意', '滴漏', '力量',\n",
        "                 '胃口不好', '胃口尚好', '胃口正常', '胃口平平', '胃口下降', '胃口過好', '噁心', '無噁心', '會餓', '胃口時好時壞',\n",
        "                 '口渴尚好', '口渴無', '口渴重', '喜冷', '喜熱', '喜溫', '不渴', '口乾', '雙足熱', '雙足溫', '手熱', '手溫', '手冷',\n",
        "                 '冰冷', '稍冷', '手足皆冷', '額溫', '額熱', '手足正常', '手腳水腫', '手足時麻', '手足不麻', '手足出汗', '易出汗',\n",
        "                 '不易出汗', '盜汗', '無盜汗']\n",
        "combined_binary = df.loc[:,binary_column]\n",
        "\n",
        "# X_vectors contain the transformed vectors for each sentence\n",
        "# y contains the corresponding labels for classification\n",
        "\n",
        "herb_columns = ['澤瀉', '黃芩', '桂枝', '炙甘草', '白芍']\n",
        "y_labels = df[herb_columns]\n",
        "# Split the combined features into train and test sets\n",
        "X_train, X_test, y_train, y_test = train_test_split(combined_binary, y_labels, test_size=0.2, random_state=18)\n",
        "\n",
        "rf_classifier = RandomForestClassifier(n_estimators=20, random_state=222, criterion='entropy')\n",
        "# Initialize MultiOutputClassifier with RandomForestClassifier\n",
        "multi_output_classifier = MultiOutputClassifier(rf_classifier, n_jobs=-1)\n",
        "\n",
        "# Fit the multi-output classifier on the training data\n",
        "multi_output_classifier.fit(X_train, y_train)\n",
        "\n",
        "# Predict on test data\n",
        "predictions = multi_output_classifier.predict(X_test)\n",
        "\n",
        "# Calculate accuracy for each column\n",
        "for i, column in enumerate(herb_columns):\n",
        "    accuracy = accuracy_score(y_test[column], predictions[:, i])\n",
        "    f1 = f1_score(y_test[column], predictions[:, i], average='weighted')\n",
        "    precision = precision_score(y_test[column], predictions[:, i], average='weighted')\n",
        "    recall = recall_score(y_test[column], predictions[:, i], average='weighted')\n",
        "\n",
        "    print(f\"Metrics for {herb_columns[i]} using binary features:\")\n",
        "    print(f\"  Accuracy: {accuracy:.4f}\")\n",
        "    print(f\"  F1-score: {f1:.4f}\")\n",
        "    print(f\"  Precision: {precision:.4f}\")\n",
        "    print(f\"  Recall: {recall:.4f}\")"
      ],
      "metadata": {
        "colab": {
          "base_uri": "https://localhost:8080/"
        },
        "id": "3iI2SA1UJvTb",
        "outputId": "028cf1f3-20e4-493c-8bb1-02f910853cc4"
      },
      "execution_count": null,
      "outputs": [
        {
          "output_type": "stream",
          "name": "stdout",
          "text": [
            "Metrics for 澤瀉:\n",
            "  Accuracy: 0.5500\n",
            "  F1-score: 0.5081\n",
            "  Precision: 0.5017\n",
            "  Recall: 0.5500\n",
            "Metrics for 黃芩:\n",
            "  Accuracy: 0.5938\n",
            "  F1-score: 0.5827\n",
            "  Precision: 0.5888\n",
            "  Recall: 0.5938\n",
            "Metrics for 桂枝:\n",
            "  Accuracy: 0.5813\n",
            "  F1-score: 0.5879\n",
            "  Precision: 0.5998\n",
            "  Recall: 0.5813\n",
            "Metrics for 炙甘草:\n",
            "  Accuracy: 0.5750\n",
            "  F1-score: 0.5695\n",
            "  Precision: 0.5684\n",
            "  Recall: 0.5750\n",
            "Metrics for 白芍:\n",
            "  Accuracy: 0.5687\n",
            "  F1-score: 0.5615\n",
            "  Precision: 0.5832\n",
            "  Recall: 0.5687\n"
          ]
        }
      ]
    },
    {
      "cell_type": "code",
      "source": [
        "import matplotlib.pyplot as plt\n",
        "import numpy as np\n",
        "\n",
        "# Herb names\n",
        "herb_columns = ['Zéxiè', 'Huángqín', 'Guìzhī', 'Zhìgāncǎo', 'Báisháo']\n",
        "\n",
        "# Results for word embedding\n",
        "accuracy_word_embedding = [0.7188, 0.5938, 0.6438, 0.5875, 0.6188]\n",
        "f1_word_embedding = [0.6966, 0.5622, 0.6430, 0.5730, 0.6079]\n",
        "precision_word_embedding = [0.7240, 0.5940, 0.6424, 0.5772, 0.6472]\n",
        "recall_word_embedding = [0.7188, 0.5938, 0.6438, 0.5875, 0.6188]\n",
        "\n",
        "# Results for binary features\n",
        "accuracy_binary = [0.5500, 0.5938, 0.5813, 0.5750, 0.5687]\n",
        "f1_binary = [0.5081, 0.5827, 0.5879, 0.5695, 0.5615]\n",
        "precision_binary = [0.5017, 0.5888, 0.5998, 0.5684, 0.5832]\n",
        "recall_binary = [0.5500, 0.5938, 0.5813, 0.5750, 0.5687]\n",
        "\n",
        "# Set up figure and axis\n",
        "fig, ax = plt.subplots(figsize=(10, 6))\n",
        "\n",
        "# Set width of the bars\n",
        "bar_width = 0.35\n",
        "\n",
        "# Set position of bar on X axis\n",
        "r1 = np.arange(len(herb_columns))\n",
        "r2 = [x + bar_width for x in r1]\n",
        "\n",
        "# Create bars\n",
        "plt.bar(r1, accuracy_word_embedding, color='#7FB3D5', width=bar_width, edgecolor='grey', label='Word Embedding - Accuracy')\n",
        "plt.bar(r2, accuracy_binary, color='#F596AA', width=bar_width, edgecolor='grey', label='Binary Features - Accuracy')\n",
        "\n",
        "# Add labels\n",
        "plt.xlabel('Herb', fontweight='bold', fontsize=15)\n",
        "plt.ylabel('Accuracy', fontweight='bold', fontsize=15)\n",
        "plt.xticks([r + bar_width/2 for r in range(len(herb_columns))], herb_columns)\n",
        "\n",
        "# Add legend\n",
        "plt.legend()\n",
        "\n",
        "# Show plot\n",
        "plt.show()\n"
      ],
      "metadata": {
        "colab": {
          "base_uri": "https://localhost:8080/",
          "height": 548
        },
        "id": "NK_b60wvEmde",
        "outputId": "5218f096-5604-4aae-dd91-17fca78cd036"
      },
      "execution_count": null,
      "outputs": [
        {
          "output_type": "display_data",
          "data": {
            "text/plain": [
              "<Figure size 1000x600 with 1 Axes>"
            ],
            "image/png": "[encoded data removed]"
          },
          "metadata": {}
        }
      ]
    },
    {
      "cell_type": "code",
      "source": [
        "import matplotlib.pyplot as plt\n",
        "import numpy as np\n",
        "\n",
        "# Herb names\n",
        "herb_columns = ['Zéxiè', 'Huángqín', 'Guìzhī', 'Zhìgāncǎo', 'Báisháo']\n",
        "\n",
        "# Results for word embedding\n",
        "f1_word_embedding = [0.6966, 0.5622, 0.6430, 0.5730, 0.6079]\n",
        "f1_binary = [0.5081, 0.5827, 0.5879, 0.5695, 0.5615]\n",
        "\n",
        "# Set up figure and axis\n",
        "fig, ax = plt.subplots(figsize=(10, 6))\n",
        "\n",
        "# Set width of the bars\n",
        "bar_width = 0.35\n",
        "\n",
        "# Set position of bar on X axis\n",
        "r1 = np.arange(len(herb_columns))\n",
        "r2 = [x + bar_width for x in r1]\n",
        "\n",
        "# Create bars\n",
        "plt.bar(r1, f1_word_embedding, color='#7FB3D5', width=bar_width, edgecolor='grey', label='Word Embedding - F1-Score')\n",
        "plt.bar(r2, f1_binary, color='#F596AA', width=bar_width, edgecolor='grey', label='Binary Features - F1-Score')\n",
        "\n",
        "# Add labels\n",
        "plt.xlabel('Herb', fontweight='bold', fontsize=15)\n",
        "plt.ylabel('F1-Score', fontweight='bold', fontsize=15)\n",
        "plt.xticks([r + bar_width/2 for r in range(len(herb_columns))], herb_columns)\n",
        "\n",
        "# Add legend\n",
        "plt.legend()\n",
        "\n",
        "# Add values on top of each column\n",
        "for i, value in enumerate(f1_word_embedding):\n",
        "    plt.text(i, value + 0.02, f'{value:.4f}', ha='center', va='bottom', fontsize=10, fontweight='bold', color='black')\n",
        "\n",
        "for i, value in enumerate(f1_binary):\n",
        "    plt.text(i + bar_width, value + 0.02, f'{value:.4f}', ha='center', va='bottom', fontsize=10, fontweight='bold', color='black')\n",
        "\n",
        "# Show plot\n",
        "plt.show()\n"
      ],
      "metadata": {
        "colab": {
          "base_uri": "https://localhost:8080/",
          "height": 553
        },
        "id": "2ClYLCy2l--W",
        "outputId": "d223bd4b-8926-4978-c0f8-a12e56700d54"
      },
      "execution_count": null,
      "outputs": [
        {
          "output_type": "display_data",
          "data": {
            "text/plain": [
              "<Figure size 1000x600 with 1 Axes>"
            ],
            "image/png": "[encoded data removed]"
          },
          "metadata": {}
        }
      ]
    }
  ]
}